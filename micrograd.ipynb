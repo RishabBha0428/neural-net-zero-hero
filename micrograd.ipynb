{
  "nbformat": 4,
  "nbformat_minor": 0,
  "metadata": {
    "colab": {
      "provenance": [],
      "collapsed_sections": [
        "7pKphGR04VnH"
      ]
    },
    "kernelspec": {
      "name": "python3",
      "display_name": "Python 3"
    },
    "language_info": {
      "name": "python"
    }
  },
  "cells": [
    {
      "cell_type": "markdown",
      "source": [
        "# Micrograd\n",
        "\n",
        "Auto-gradient engine that implements backpropagation over a dynamically built DAG and a small neural networks library on top, like Pytorch. Only operates over scalar values.\n",
        "\n",
        "Remember backprop from cs189. uses chain rule to work backwards from expression.e.g. how a and b are affecting g through expression.\n",
        "\n",
        "## Neural Network\n",
        "\n",
        "Input = data and weights of neural network + math expression + output prediction or loss function\n",
        "\n",
        "Backprop is about arbitrary expressions, used to train neural networks\n",
        "\n",
        "To train larger values, we use tensors, arrays of scalars, allows us to take advanatage of parallelism, but none of the math changes."
      ],
      "metadata": {
        "id": "r2lo_-rr2Lie"
      }
    },
    {
      "cell_type": "markdown",
      "source": [
        "## Working with Derivatives"
      ],
      "metadata": {
        "id": "7pKphGR04VnH"
      }
    },
    {
      "cell_type": "code",
      "execution_count": 2,
      "metadata": {
        "id": "HkFaI2Ou2E-7"
      },
      "outputs": [],
      "source": [
        "import math\n",
        "import numpy as np\n",
        "import matplotlib.pyplot as plt\n",
        "%matplotlib inline"
      ]
    },
    {
      "cell_type": "code",
      "source": [
        "def f(x):\n",
        "  return 3 * x ** 2 - 4 * x + 5"
      ],
      "metadata": {
        "id": "VqKrMNHW4Z03"
      },
      "execution_count": null,
      "outputs": []
    },
    {
      "cell_type": "code",
      "source": [
        "f(3.0)"
      ],
      "metadata": {
        "colab": {
          "base_uri": "https://localhost:8080/"
        },
        "id": "G5R095L04g30",
        "outputId": "06de8e8a-50d0-4ef4-b5db-23a791dcb160"
      },
      "execution_count": null,
      "outputs": [
        {
          "output_type": "execute_result",
          "data": {
            "text/plain": [
              "20.0"
            ]
          },
          "metadata": {},
          "execution_count": 3
        }
      ]
    },
    {
      "cell_type": "code",
      "source": [
        "xs = np.arange(-5,5,0.25)\n",
        "ys = f(xs)\n",
        "plt.plot(xs,ys)"
      ],
      "metadata": {
        "colab": {
          "base_uri": "https://localhost:8080/",
          "height": 448
        },
        "id": "3UPUGTsh4hgp",
        "outputId": "0b0a9fe1-f474-4a4f-baa0-f13ee5f320c7"
      },
      "execution_count": null,
      "outputs": [
        {
          "output_type": "execute_result",
          "data": {
            "text/plain": [
              "[<matplotlib.lines.Line2D at 0x7f0c355d23c0>]"
            ]
          },
          "metadata": {},
          "execution_count": 6
        },
        {
          "output_type": "display_data",
          "data": {
            "text/plain": [
              "<Figure size 640x480 with 1 Axes>"
            ],
            "image/png": "[encoded data removed]"
          },
          "metadata": {}
        }
      ]
    },
    {
      "cell_type": "code",
      "source": [
        "# More complex --> if I want the derivative of d wrt a, b, c, requires chain rule\n",
        "a = 2.0\n",
        "b = -3.0\n",
        "c = 10.0\n",
        "d = a * b + c\n",
        "d"
      ],
      "metadata": {
        "colab": {
          "base_uri": "https://localhost:8080/"
        },
        "id": "QBFrlcwM4sGH",
        "outputId": "9c6d23cb-938c-46e8-906a-f5d0317ab0ec"
      },
      "execution_count": null,
      "outputs": [
        {
          "output_type": "execute_result",
          "data": {
            "text/plain": [
              "4.0"
            ]
          },
          "metadata": {},
          "execution_count": 7
        }
      ]
    },
    {
      "cell_type": "markdown",
      "source": [
        "# Class Definitions"
      ],
      "metadata": {
        "id": "lDcY_tda-BV-"
      }
    },
    {
      "cell_type": "markdown",
      "source": [],
      "metadata": {
        "id": "uqPTkmi41fjk"
      }
    },
    {
      "cell_type": "code",
      "source": [
        "from re import S\n",
        "class Value:\n",
        "\n",
        "  def __init__(self, data, _children=(), _op = '', label = ''):\n",
        "    #value, which numbers were its children, and what operations\n",
        "    #maintain the gradient with respect to the end\n",
        "    self.data = data\n",
        "    #function to change output gradient into input gradient, default for nothing\n",
        "    self._backward = lambda: None\n",
        "    self._prev = set(_children)  #for efficiency\n",
        "    self._op = _op\n",
        "    self.label = label\n",
        "\n",
        "    #backprop\n",
        "    self.grad = 0.0\n",
        "\n",
        "\n",
        "  def __repr__(self):\n",
        "    return f\"Value(data={self.data}\"\n",
        "\n",
        "  def __radd__(self, other):\n",
        "    return self + other\n",
        "\n",
        "  def __add__(self, other):\n",
        "    # feed in children\n",
        "    other = other if isinstance(other, Value) else Value(other)\n",
        "    out = Value(self.data + other.data, (self, other), '+')\n",
        "\n",
        "    #propogate backward, out.grad into self and other\n",
        "    def _backward():\n",
        "      self.grad += 1.0 * out.grad\n",
        "      other.grad += 1.0 * out.grad\n",
        "    out._backward = _backward\n",
        "    return out\n",
        "\n",
        "  def __rmul__(self, other):    #a * 2 works, but 2 * a doesnt\n",
        "    return self * other\n",
        "\n",
        "  def __mul__(self, other):\n",
        "    other = other if isinstance(other, Value) else Value(other)\n",
        "    out = Value(self.data * other.data, (self, other), '*')\n",
        "    #propogate backward, out.grad into self and other\n",
        "    def _backward():\n",
        "      #accumulate grads\n",
        "      self.grad += other.data * out.grad\n",
        "      other.grad += self.data * out.grad\n",
        "    out._backward = _backward\n",
        "    return out\n",
        "\n",
        "  def __sub__(self, other):\n",
        "    return self + (-1 * other)\n",
        "\n",
        "  def __pow__(self, other):\n",
        "    assert isinstance(other, (int, float)), \"only supporting int/floats\"\n",
        "    out = Value(self.data**other, (self, ), f'**{other}')\n",
        "\n",
        "    def _backward():\n",
        "      self.grad += other * self.data **(other-1) * out.grad\n",
        "\n",
        "    out._backward = _backward\n",
        "    return out\n",
        "\n",
        "  def __truediv__(self, other):\n",
        "    return self * other**-1\n",
        "\n",
        "  def exp(self):\n",
        "    x = self.data\n",
        "    out = Value(math.exp(x), (self, ), 'exp')\n",
        "    def _backward():\n",
        "      self.grad = out.data * out.grad #math.exp(x) is the derivative\n",
        "    out._backward = _backward\n",
        "    return out\n",
        "\n",
        "  def tanh(self):\n",
        "    val = self.data\n",
        "    exp = (math.exp(2 * val) - 1) / (math.exp(2 * val) + 1)\n",
        "    out = Value(exp, (self, ), 'tanh' )\n",
        "\n",
        "    def _backward(): #(tanh)\n",
        "      self.grad = (1 - exp**2) * out.grad\n",
        "\n",
        "    out._backward = _backward\n",
        "    return out\n",
        "\n",
        "  def backward(self):\n",
        "    topo = []\n",
        "    visited = set()\n",
        "\n",
        "    def build_topo(v):\n",
        "      if v not in visited:\n",
        "        visited.add(v)\n",
        "        for child in v._prev:\n",
        "          build_topo(child)\n",
        "        topo.append(v)\n",
        "\n",
        "    build_topo(self)\n",
        "\n",
        "    self.grad = 1.0\n",
        "    for node in reversed(topo):\n",
        "      node._backward()\n",
        "\n",
        "\n",
        "a = Value(2.0,label='a')\n",
        "b = Value(3.0, label='b')\n",
        "c = Value(4.0,label='c')\n",
        "e = a + b\n",
        "e.label = 'e'\n",
        "d = e + c\n",
        "d.label = 'd'\n",
        "f = Value(-2.0, label = 'f')\n",
        "L = d * f\n",
        "L.label = 'L'\n"
      ],
      "metadata": {
        "id": "d6XU-tOo817Z"
      },
      "execution_count": 164,
      "outputs": []
    },
    {
      "cell_type": "code",
      "source": [
        "# Visualize expression graphs\n",
        "from graphviz import Digraph\n",
        "\n",
        "#perform dfs from the graph to keep track of all the nodes and its edges\n",
        "def trace(root):\n",
        "  visited, edges = set(), set()\n",
        "  def build(v):\n",
        "    if v not in visited:\n",
        "      visited.add(v)\n",
        "      for child in v._prev:\n",
        "        edges.add((child, v))\n",
        "        build(child)\n",
        "  build(root)\n",
        "  return visited, edges\n",
        "\n",
        "# draw the visualization\n",
        "def draw_dot(root):\n",
        "  visited, edges = trace(root)\n",
        "  dot = Digraph(format='svg', graph_attr={'rankdir': 'LR'}) # LR = left to right\n",
        "\n",
        "  for n in visited:\n",
        "    dot.node(name=str(id(n)), label = \"{ %s | data %.4f | grad %.4f }\" % (n.label, n.data, n.grad), shape= 'record')\n",
        "    if n._op:\n",
        "      dot.node(name =str(id(n)) + n._op, label = n._op)\n",
        "      dot.edge(str(id(n)) + n._op, str(id(n)))\n",
        "\n",
        "  for n1, n2 in edges:\n",
        "    dot.edge(str(id(n1)), str(id(n2)) + n2._op)\n",
        "\n",
        "  return dot"
      ],
      "metadata": {
        "id": "HpyeAh4P_Xkd"
      },
      "execution_count": 105,
      "outputs": []
    },
    {
      "cell_type": "code",
      "source": [
        "draw_dot(L)"
      ],
      "metadata": {
        "colab": {
          "base_uri": "https://localhost:8080/",
          "height": 212
        },
        "id": "WhDdxY_AAy-B",
        "outputId": "1a8b92ce-058f-4d2e-b739-b4c611d9a803"
      },
      "execution_count": 106,
      "outputs": [
        {
          "output_type": "execute_result",
          "data": {
            "image/svg+xml": "<?xml version=\"1.0\" encoding=\"UTF-8\" standalone=\"no\"?>\n<!DOCTYPE svg PUBLIC \"-//W3C//DTD SVG 1.1//EN\"\n \"http://www.w3.org/Graphics/SVG/1.1/DTD/svg11.dtd\">\n<!-- Generated by graphviz version 2.43.0 (0)\n -->\n<!-- Title: %3 Pages: 1 -->\n<svg width=\"1143pt\" height=\"128pt\"\n viewBox=\"0.00 0.00 1143.00 128.00\" xmlns=\"http://www.w3.org/2000/svg\" xmlns:xlink=\"http://www.w3.org/1999/xlink\">\n<g id=\"graph0\" class=\"graph\" transform=\"scale(1 1) rotate(0) translate(4 124)\">\n<title>%3</title>\n<polygon fill=\"white\" stroke=\"transparent\" points=\"-4,4 -4,-124 1139,-124 1139,4 -4,4\"/>\n<!-- 134967363712016 -->\n<g id=\"node1\" class=\"node\">\n<title>134967363712016</title>\n<polygon fill=\"none\" stroke=\"black\" points=\"622,-82.5 622,-118.5 810,-118.5 810,-82.5 622,-82.5\"/>\n<text text-anchor=\"middle\" x=\"632.5\" y=\"-96.8\" font-family=\"Times,serif\" font-size=\"14.00\">f</text>\n<polyline fill=\"none\" stroke=\"black\" points=\"643,-82.5 643,-118.5 \"/>\n<text text-anchor=\"middle\" x=\"685.5\" y=\"-96.8\" font-family=\"Times,serif\" font-size=\"14.00\">data &#45;2.0000</text>\n<polyline fill=\"none\" stroke=\"black\" points=\"728,-82.5 728,-118.5 \"/>\n<text text-anchor=\"middle\" x=\"769\" y=\"-96.8\" font-family=\"Times,serif\" font-size=\"14.00\">grad 0.0000</text>\n</g>\n<!-- 134967363713744* -->\n<g id=\"node6\" class=\"node\">\n<title>134967363713744*</title>\n<ellipse fill=\"none\" stroke=\"black\" cx=\"873\" cy=\"-72.5\" rx=\"27\" ry=\"18\"/>\n<text text-anchor=\"middle\" x=\"873\" y=\"-68.8\" font-family=\"Times,serif\" font-size=\"14.00\">*</text>\n</g>\n<!-- 134967363712016&#45;&gt;134967363713744* -->\n<g id=\"edge5\" class=\"edge\">\n<title>134967363712016&#45;&gt;134967363713744*</title>\n<path fill=\"none\" stroke=\"black\" d=\"M810.29,-83.65C819.57,-81.97 828.52,-80.35 836.61,-78.89\"/>\n<polygon fill=\"black\" stroke=\"black\" points=\"837.46,-82.3 846.68,-77.07 836.21,-75.41 837.46,-82.3\"/>\n</g>\n<!-- 134967365811328 -->\n<g id=\"node2\" class=\"node\">\n<title>134967365811328</title>\n<polygon fill=\"none\" stroke=\"black\" points=\"311,-55.5 311,-91.5 496,-91.5 496,-55.5 311,-55.5\"/>\n<text text-anchor=\"middle\" x=\"322.5\" y=\"-69.8\" font-family=\"Times,serif\" font-size=\"14.00\">e</text>\n<polyline fill=\"none\" stroke=\"black\" points=\"334,-55.5 334,-91.5 \"/>\n<text text-anchor=\"middle\" x=\"374\" y=\"-69.8\" font-family=\"Times,serif\" font-size=\"14.00\">data 5.0000</text>\n<polyline fill=\"none\" stroke=\"black\" points=\"414,-55.5 414,-91.5 \"/>\n<text text-anchor=\"middle\" x=\"455\" y=\"-69.8\" font-family=\"Times,serif\" font-size=\"14.00\">grad 0.0000</text>\n</g>\n<!-- 134967363714032+ -->\n<g id=\"node10\" class=\"node\">\n<title>134967363714032+</title>\n<ellipse fill=\"none\" stroke=\"black\" cx=\"559\" cy=\"-45.5\" rx=\"27\" ry=\"18\"/>\n<text text-anchor=\"middle\" x=\"559\" y=\"-41.8\" font-family=\"Times,serif\" font-size=\"14.00\">+</text>\n</g>\n<!-- 134967365811328&#45;&gt;134967363714032+ -->\n<g id=\"edge6\" class=\"edge\">\n<title>134967365811328&#45;&gt;134967363714032+</title>\n<path fill=\"none\" stroke=\"black\" d=\"M496.01,-56.81C505.49,-55.08 514.66,-53.41 522.9,-51.9\"/>\n<polygon fill=\"black\" stroke=\"black\" points=\"523.6,-55.33 532.81,-50.09 522.35,-48.45 523.6,-55.33\"/>\n</g>\n<!-- 134967365811328+ -->\n<g id=\"node3\" class=\"node\">\n<title>134967365811328+</title>\n<ellipse fill=\"none\" stroke=\"black\" cx=\"248\" cy=\"-73.5\" rx=\"27\" ry=\"18\"/>\n<text text-anchor=\"middle\" x=\"248\" y=\"-69.8\" font-family=\"Times,serif\" font-size=\"14.00\">+</text>\n</g>\n<!-- 134967365811328+&#45;&gt;134967365811328 -->\n<g id=\"edge1\" class=\"edge\">\n<title>134967365811328+&#45;&gt;134967365811328</title>\n<path fill=\"none\" stroke=\"black\" d=\"M275.04,-73.5C282.58,-73.5 291.3,-73.5 300.57,-73.5\"/>\n<polygon fill=\"black\" stroke=\"black\" points=\"300.81,-77 310.81,-73.5 300.81,-70 300.81,-77\"/>\n</g>\n<!-- 134967363742912 -->\n<g id=\"node4\" class=\"node\">\n<title>134967363742912</title>\n<polygon fill=\"none\" stroke=\"black\" points=\"311,-0.5 311,-36.5 496,-36.5 496,-0.5 311,-0.5\"/>\n<text text-anchor=\"middle\" x=\"322.5\" y=\"-14.8\" font-family=\"Times,serif\" font-size=\"14.00\">c</text>\n<polyline fill=\"none\" stroke=\"black\" points=\"334,-0.5 334,-36.5 \"/>\n<text text-anchor=\"middle\" x=\"374\" y=\"-14.8\" font-family=\"Times,serif\" font-size=\"14.00\">data 4.0000</text>\n<polyline fill=\"none\" stroke=\"black\" points=\"414,-0.5 414,-36.5 \"/>\n<text text-anchor=\"middle\" x=\"455\" y=\"-14.8\" font-family=\"Times,serif\" font-size=\"14.00\">grad 0.0000</text>\n</g>\n<!-- 134967363742912&#45;&gt;134967363714032+ -->\n<g id=\"edge7\" class=\"edge\">\n<title>134967363742912&#45;&gt;134967363714032+</title>\n<path fill=\"none\" stroke=\"black\" d=\"M496.01,-34.6C505.49,-36.26 514.66,-37.88 522.9,-39.33\"/>\n<polygon fill=\"black\" stroke=\"black\" points=\"522.36,-42.78 532.81,-41.07 523.57,-35.89 522.36,-42.78\"/>\n</g>\n<!-- 134967363713744 -->\n<g id=\"node5\" class=\"node\">\n<title>134967363713744</title>\n<polygon fill=\"none\" stroke=\"black\" points=\"936,-54.5 936,-90.5 1135,-90.5 1135,-54.5 936,-54.5\"/>\n<text text-anchor=\"middle\" x=\"948.5\" y=\"-68.8\" font-family=\"Times,serif\" font-size=\"14.00\">L</text>\n<polyline fill=\"none\" stroke=\"black\" points=\"961,-54.5 961,-90.5 \"/>\n<text text-anchor=\"middle\" x=\"1007\" y=\"-68.8\" font-family=\"Times,serif\" font-size=\"14.00\">data &#45;18.0000</text>\n<polyline fill=\"none\" stroke=\"black\" points=\"1053,-54.5 1053,-90.5 \"/>\n<text text-anchor=\"middle\" x=\"1094\" y=\"-68.8\" font-family=\"Times,serif\" font-size=\"14.00\">grad 0.0000</text>\n</g>\n<!-- 134967363713744*&#45;&gt;134967363713744 -->\n<g id=\"edge2\" class=\"edge\">\n<title>134967363713744*&#45;&gt;134967363713744</title>\n<path fill=\"none\" stroke=\"black\" d=\"M900.14,-72.5C907.65,-72.5 916.33,-72.5 925.6,-72.5\"/>\n<polygon fill=\"black\" stroke=\"black\" points=\"925.86,-76 935.86,-72.5 925.86,-69 925.86,-76\"/>\n</g>\n<!-- 134967363746128 -->\n<g id=\"node7\" class=\"node\">\n<title>134967363746128</title>\n<polygon fill=\"none\" stroke=\"black\" points=\"0,-83.5 0,-119.5 185,-119.5 185,-83.5 0,-83.5\"/>\n<text text-anchor=\"middle\" x=\"11.5\" y=\"-97.8\" font-family=\"Times,serif\" font-size=\"14.00\">b</text>\n<polyline fill=\"none\" stroke=\"black\" points=\"23,-83.5 23,-119.5 \"/>\n<text text-anchor=\"middle\" x=\"63\" y=\"-97.8\" font-family=\"Times,serif\" font-size=\"14.00\">data 3.0000</text>\n<polyline fill=\"none\" stroke=\"black\" points=\"103,-83.5 103,-119.5 \"/>\n<text text-anchor=\"middle\" x=\"144\" y=\"-97.8\" font-family=\"Times,serif\" font-size=\"14.00\">grad 0.0000</text>\n</g>\n<!-- 134967363746128&#45;&gt;134967365811328+ -->\n<g id=\"edge9\" class=\"edge\">\n<title>134967363746128&#45;&gt;134967365811328+</title>\n<path fill=\"none\" stroke=\"black\" d=\"M185.01,-84.81C194.49,-83.08 203.66,-81.41 211.9,-79.9\"/>\n<polygon fill=\"black\" stroke=\"black\" points=\"212.6,-83.33 221.81,-78.09 211.35,-76.45 212.6,-83.33\"/>\n</g>\n<!-- 134967363764688 -->\n<g id=\"node8\" class=\"node\">\n<title>134967363764688</title>\n<polygon fill=\"none\" stroke=\"black\" points=\"0,-28.5 0,-64.5 185,-64.5 185,-28.5 0,-28.5\"/>\n<text text-anchor=\"middle\" x=\"11.5\" y=\"-42.8\" font-family=\"Times,serif\" font-size=\"14.00\">a</text>\n<polyline fill=\"none\" stroke=\"black\" points=\"23,-28.5 23,-64.5 \"/>\n<text text-anchor=\"middle\" x=\"63\" y=\"-42.8\" font-family=\"Times,serif\" font-size=\"14.00\">data 2.0000</text>\n<polyline fill=\"none\" stroke=\"black\" points=\"103,-28.5 103,-64.5 \"/>\n<text text-anchor=\"middle\" x=\"144\" y=\"-42.8\" font-family=\"Times,serif\" font-size=\"14.00\">grad 0.0000</text>\n</g>\n<!-- 134967363764688&#45;&gt;134967365811328+ -->\n<g id=\"edge4\" class=\"edge\">\n<title>134967363764688&#45;&gt;134967365811328+</title>\n<path fill=\"none\" stroke=\"black\" d=\"M185.01,-62.6C194.49,-64.26 203.66,-65.88 211.9,-67.33\"/>\n<polygon fill=\"black\" stroke=\"black\" points=\"211.36,-70.78 221.81,-69.07 212.57,-63.89 211.36,-70.78\"/>\n</g>\n<!-- 134967363714032 -->\n<g id=\"node9\" class=\"node\">\n<title>134967363714032</title>\n<polygon fill=\"none\" stroke=\"black\" points=\"623.5,-27.5 623.5,-63.5 808.5,-63.5 808.5,-27.5 623.5,-27.5\"/>\n<text text-anchor=\"middle\" x=\"635\" y=\"-41.8\" font-family=\"Times,serif\" font-size=\"14.00\">d</text>\n<polyline fill=\"none\" stroke=\"black\" points=\"646.5,-27.5 646.5,-63.5 \"/>\n<text text-anchor=\"middle\" x=\"686.5\" y=\"-41.8\" font-family=\"Times,serif\" font-size=\"14.00\">data 9.0000</text>\n<polyline fill=\"none\" stroke=\"black\" points=\"726.5,-27.5 726.5,-63.5 \"/>\n<text text-anchor=\"middle\" x=\"767.5\" y=\"-41.8\" font-family=\"Times,serif\" font-size=\"14.00\">grad 0.0000</text>\n</g>\n<!-- 134967363714032&#45;&gt;134967363713744* -->\n<g id=\"edge8\" class=\"edge\">\n<title>134967363714032&#45;&gt;134967363713744*</title>\n<path fill=\"none\" stroke=\"black\" d=\"M808.51,-61.44C818.48,-63.18 828.13,-64.86 836.77,-66.36\"/>\n<polygon fill=\"black\" stroke=\"black\" points=\"836.31,-69.84 846.77,-68.1 837.52,-62.94 836.31,-69.84\"/>\n</g>\n<!-- 134967363714032+&#45;&gt;134967363714032 -->\n<g id=\"edge3\" class=\"edge\">\n<title>134967363714032+&#45;&gt;134967363714032</title>\n<path fill=\"none\" stroke=\"black\" d=\"M586.29,-45.5C594.26,-45.5 603.54,-45.5 613.39,-45.5\"/>\n<polygon fill=\"black\" stroke=\"black\" points=\"613.41,-49 623.41,-45.5 613.41,-42 613.41,-49\"/>\n</g>\n</g>\n</svg>\n",
            "text/plain": [
              "<graphviz.graphs.Digraph at 0x7ac089c70590>"
            ]
          },
          "metadata": {},
          "execution_count": 106
        }
      ]
    },
    {
      "cell_type": "markdown",
      "source": [
        "# Backpropagation\n",
        "For each value, computing the derivative of that node with respect to the end (L) which is the loss function with respect to the weights of the neural network\n",
        "\n",
        "Each operation knows the local derivatives (d = c + e, so dd/dc = 1 and dd/de = 1), but we want dL/dc.\n",
        "\n",
        "We can represent this idea with a graph using chain rule, e.g. dL/dc = dL/dd * dd/dc. with each node, we know how the inputs influence the derivative at this step."
      ],
      "metadata": {
        "id": "L-32E0P-D1kV"
      }
    },
    {
      "cell_type": "markdown",
      "source": [
        "## Neuron Example\n",
        "2 neurons, activation function applied to weights * inputs + biases"
      ],
      "metadata": {
        "id": "IwDRbGEh-RVS"
      }
    },
    {
      "cell_type": "code",
      "source": [
        "#inputs\n",
        "x1 = Value(2.0, label = 'x1')\n",
        "x2 = Value(0.0, label = 'x2')\n",
        "#weights\n",
        "w1 = Value(-3.0, label = 'w1')\n",
        "w2 = Value(1.0, label = 'w2')\n",
        "#bias\n",
        "b = Value(6.8813735870195432, label = 'b')\n",
        "\n",
        "#dot products\n",
        "x1w1 = x1 * w1\n",
        "x1w1.label = 'x1w1'\n",
        "x2w2 = x2 * w2\n",
        "x2w2.label = 'x2w2'\n",
        "#add together\n",
        "x1w1x2w2 = x1w1 + x2w2\n",
        "x1w1x2w2.label = 'x1w1 + x2w2'\n",
        "\n",
        "#add bias\n",
        "n = x1w1x2w2 + b\n",
        "n.label = 'n'\n",
        "\n",
        "#apply activation function\n",
        "#--------------#\n",
        "e = (2*n).exp()\n",
        "o = (e-1)/(e+1)\n",
        "\n",
        "#--------------#\n",
        "#o = n.tanh()\n",
        "o.label = 'o'\n"
      ],
      "metadata": {
        "id": "yAaiwmuSA2EW"
      },
      "execution_count": 110,
      "outputs": []
    },
    {
      "cell_type": "code",
      "source": [
        "o.backward()"
      ],
      "metadata": {
        "id": "Jcyy9jYmChm-"
      },
      "execution_count": 111,
      "outputs": []
    },
    {
      "cell_type": "code",
      "source": [
        "#plot n\n",
        "draw_dot(o)"
      ],
      "metadata": {
        "colab": {
          "base_uri": "https://localhost:8080/",
          "height": 360
        },
        "id": "_px77kAAEdH9",
        "outputId": "b7db0be4-b98f-4433-bf51-dc31f6584301"
      },
      "execution_count": 112,
      "outputs": [
        {
          "output_type": "execute_result",
          "data": {
            "image/svg+xml": "<?xml version=\"1.0\" encoding=\"UTF-8\" standalone=\"no\"?>\n<!DOCTYPE svg PUBLIC \"-//W3C//DTD SVG 1.1//EN\"\n \"http://www.w3.org/Graphics/SVG/1.1/DTD/svg11.dtd\">\n<!-- Generated by graphviz version 2.43.0 (0)\n -->\n<!-- Title: %3 Pages: 1 -->\n<svg width=\"2924pt\" height=\"239pt\"\n viewBox=\"0.00 0.00 2924.00 239.00\" xmlns=\"http://www.w3.org/2000/svg\" xmlns:xlink=\"http://www.w3.org/1999/xlink\">\n<g id=\"graph0\" class=\"graph\" transform=\"scale(1 1) rotate(0) translate(4 235)\">\n<title>%3</title>\n<polygon fill=\"white\" stroke=\"transparent\" points=\"-4,4 -4,-235 2920,-235 2920,4 -4,4\"/>\n<!-- 134967363818496 -->\n<g id=\"node1\" class=\"node\">\n<title>134967363818496</title>\n<polygon fill=\"none\" stroke=\"black\" points=\"1672.5,-55.5 1672.5,-91.5 1854.5,-91.5 1854.5,-55.5 1672.5,-55.5\"/>\n<text text-anchor=\"middle\" x=\"1682.5\" y=\"-69.8\" font-family=\"Times,serif\" font-size=\"14.00\"> </text>\n<polyline fill=\"none\" stroke=\"black\" points=\"1692.5,-55.5 1692.5,-91.5 \"/>\n<text text-anchor=\"middle\" x=\"1732.5\" y=\"-69.8\" font-family=\"Times,serif\" font-size=\"14.00\">data 5.8284</text>\n<polyline fill=\"none\" stroke=\"black\" points=\"1772.5,-55.5 1772.5,-91.5 \"/>\n<text text-anchor=\"middle\" x=\"1813.5\" y=\"-69.8\" font-family=\"Times,serif\" font-size=\"14.00\">grad 0.0429</text>\n</g>\n<!-- 134967363823584+ -->\n<g id=\"node9\" class=\"node\">\n<title>134967363823584+</title>\n<ellipse fill=\"none\" stroke=\"black\" cx=\"1920\" cy=\"-45.5\" rx=\"27\" ry=\"18\"/>\n<text text-anchor=\"middle\" x=\"1920\" y=\"-41.8\" font-family=\"Times,serif\" font-size=\"14.00\">+</text>\n</g>\n<!-- 134967363818496&#45;&gt;134967363823584+ -->\n<g id=\"edge23\" class=\"edge\">\n<title>134967363818496&#45;&gt;134967363823584+</title>\n<path fill=\"none\" stroke=\"black\" d=\"M1854.82,-57.13C1865.07,-55.27 1875.01,-53.47 1883.88,-51.87\"/>\n<polygon fill=\"black\" stroke=\"black\" points=\"1884.54,-55.3 1893.75,-50.08 1883.29,-48.42 1884.54,-55.3\"/>\n</g>\n<!-- 134967363820464+ -->\n<g id=\"node24\" class=\"node\">\n<title>134967363820464+</title>\n<ellipse fill=\"none\" stroke=\"black\" cx=\"1920\" cy=\"-100.5\" rx=\"27\" ry=\"18\"/>\n<text text-anchor=\"middle\" x=\"1920\" y=\"-96.8\" font-family=\"Times,serif\" font-size=\"14.00\">+</text>\n</g>\n<!-- 134967363818496&#45;&gt;134967363820464+ -->\n<g id=\"edge18\" class=\"edge\">\n<title>134967363818496&#45;&gt;134967363820464+</title>\n<path fill=\"none\" stroke=\"black\" d=\"M1854.82,-89.28C1865.07,-91.08 1875.01,-92.81 1883.88,-94.36\"/>\n<polygon fill=\"black\" stroke=\"black\" points=\"1883.3,-97.81 1893.75,-96.09 1884.5,-90.92 1883.3,-97.81\"/>\n</g>\n<!-- 134967363818496exp -->\n<g id=\"node2\" class=\"node\">\n<title>134967363818496exp</title>\n<ellipse fill=\"none\" stroke=\"black\" cx=\"1607\" cy=\"-73.5\" rx=\"27\" ry=\"18\"/>\n<text text-anchor=\"middle\" x=\"1607\" y=\"-69.8\" font-family=\"Times,serif\" font-size=\"14.00\">exp</text>\n</g>\n<!-- 134967363818496exp&#45;&gt;134967363818496 -->\n<g id=\"edge1\" class=\"edge\">\n<title>134967363818496exp&#45;&gt;134967363818496</title>\n<path fill=\"none\" stroke=\"black\" d=\"M1634.21,-73.5C1642.34,-73.5 1651.85,-73.5 1661.94,-73.5\"/>\n<polygon fill=\"black\" stroke=\"black\" points=\"1662.19,-77 1672.19,-73.5 1662.19,-70 1662.19,-77\"/>\n</g>\n<!-- 134967363844096 -->\n<g id=\"node3\" class=\"node\">\n<title>134967363844096</title>\n<polygon fill=\"none\" stroke=\"black\" points=\"0,-194.5 0,-230.5 200,-230.5 200,-194.5 0,-194.5\"/>\n<text text-anchor=\"middle\" x=\"16.5\" y=\"-208.8\" font-family=\"Times,serif\" font-size=\"14.00\">w1</text>\n<polyline fill=\"none\" stroke=\"black\" points=\"33,-194.5 33,-230.5 \"/>\n<text text-anchor=\"middle\" x=\"75.5\" y=\"-208.8\" font-family=\"Times,serif\" font-size=\"14.00\">data &#45;3.0000</text>\n<polyline fill=\"none\" stroke=\"black\" points=\"118,-194.5 118,-230.5 \"/>\n<text text-anchor=\"middle\" x=\"159\" y=\"-208.8\" font-family=\"Times,serif\" font-size=\"14.00\">grad 1.0000</text>\n</g>\n<!-- 134967363831472* -->\n<g id=\"node11\" class=\"node\">\n<title>134967363831472*</title>\n<ellipse fill=\"none\" stroke=\"black\" cx=\"263\" cy=\"-157.5\" rx=\"27\" ry=\"18\"/>\n<text text-anchor=\"middle\" x=\"263\" y=\"-153.8\" font-family=\"Times,serif\" font-size=\"14.00\">*</text>\n</g>\n<!-- 134967363844096&#45;&gt;134967363831472* -->\n<g id=\"edge26\" class=\"edge\">\n<title>134967363844096&#45;&gt;134967363831472*</title>\n<path fill=\"none\" stroke=\"black\" d=\"M172.53,-194.44C181.84,-191.67 191.2,-188.67 200,-185.5 210.53,-181.71 221.75,-176.9 231.72,-172.33\"/>\n<polygon fill=\"black\" stroke=\"black\" points=\"233.25,-175.48 240.82,-168.07 230.28,-169.14 233.25,-175.48\"/>\n</g>\n<!-- 134967363820080 -->\n<g id=\"node4\" class=\"node\">\n<title>134967363820080</title>\n<polygon fill=\"none\" stroke=\"black\" points=\"1670,-110.5 1670,-146.5 1857,-146.5 1857,-110.5 1670,-110.5\"/>\n<text text-anchor=\"middle\" x=\"1680\" y=\"-124.8\" font-family=\"Times,serif\" font-size=\"14.00\"> </text>\n<polyline fill=\"none\" stroke=\"black\" points=\"1690,-110.5 1690,-146.5 \"/>\n<text text-anchor=\"middle\" x=\"1732.5\" y=\"-124.8\" font-family=\"Times,serif\" font-size=\"14.00\">data &#45;1.0000</text>\n<polyline fill=\"none\" stroke=\"black\" points=\"1775,-110.5 1775,-146.5 \"/>\n<text text-anchor=\"middle\" x=\"1816\" y=\"-124.8\" font-family=\"Times,serif\" font-size=\"14.00\">grad 0.1464</text>\n</g>\n<!-- 134967363820080&#45;&gt;134967363820464+ -->\n<g id=\"edge16\" class=\"edge\">\n<title>134967363820080&#45;&gt;134967363820464+</title>\n<path fill=\"none\" stroke=\"black\" d=\"M1857.05,-111.73C1866.54,-110.01 1875.71,-108.35 1883.95,-106.85\"/>\n<polygon fill=\"black\" stroke=\"black\" points=\"1884.64,-110.28 1893.85,-105.06 1883.39,-103.4 1884.64,-110.28\"/>\n</g>\n<!-- 134967363840592 -->\n<g id=\"node5\" class=\"node\">\n<title>134967363840592</title>\n<polygon fill=\"none\" stroke=\"black\" points=\"4,-84.5 4,-120.5 196,-120.5 196,-84.5 4,-84.5\"/>\n<text text-anchor=\"middle\" x=\"19\" y=\"-98.8\" font-family=\"Times,serif\" font-size=\"14.00\">x2</text>\n<polyline fill=\"none\" stroke=\"black\" points=\"34,-84.5 34,-120.5 \"/>\n<text text-anchor=\"middle\" x=\"74\" y=\"-98.8\" font-family=\"Times,serif\" font-size=\"14.00\">data 0.0000</text>\n<polyline fill=\"none\" stroke=\"black\" points=\"114,-84.5 114,-120.5 \"/>\n<text text-anchor=\"middle\" x=\"155\" y=\"-98.8\" font-family=\"Times,serif\" font-size=\"14.00\">grad 0.5000</text>\n</g>\n<!-- 134967363836896* -->\n<g id=\"node26\" class=\"node\">\n<title>134967363836896*</title>\n<ellipse fill=\"none\" stroke=\"black\" cx=\"263\" cy=\"-102.5\" rx=\"27\" ry=\"18\"/>\n<text text-anchor=\"middle\" x=\"263\" y=\"-98.8\" font-family=\"Times,serif\" font-size=\"14.00\">*</text>\n</g>\n<!-- 134967363840592&#45;&gt;134967363836896* -->\n<g id=\"edge25\" class=\"edge\">\n<title>134967363840592&#45;&gt;134967363836896*</title>\n<path fill=\"none\" stroke=\"black\" d=\"M196.05,-102.5C206.52,-102.5 216.65,-102.5 225.71,-102.5\"/>\n<polygon fill=\"black\" stroke=\"black\" points=\"225.79,-106 235.79,-102.5 225.79,-99 225.79,-106\"/>\n</g>\n<!-- 134967363841648 -->\n<g id=\"node6\" class=\"node\">\n<title>134967363841648</title>\n<polygon fill=\"none\" stroke=\"black\" points=\"666,-111.5 666,-147.5 925,-147.5 925,-111.5 666,-111.5\"/>\n<text text-anchor=\"middle\" x=\"712\" y=\"-125.8\" font-family=\"Times,serif\" font-size=\"14.00\">x1w1 + x2w2</text>\n<polyline fill=\"none\" stroke=\"black\" points=\"758,-111.5 758,-147.5 \"/>\n<text text-anchor=\"middle\" x=\"800.5\" y=\"-125.8\" font-family=\"Times,serif\" font-size=\"14.00\">data &#45;6.0000</text>\n<polyline fill=\"none\" stroke=\"black\" points=\"843,-111.5 843,-147.5 \"/>\n<text text-anchor=\"middle\" x=\"884\" y=\"-125.8\" font-family=\"Times,serif\" font-size=\"14.00\">grad 0.5000</text>\n</g>\n<!-- 134967363843328+ -->\n<g id=\"node15\" class=\"node\">\n<title>134967363843328+</title>\n<ellipse fill=\"none\" stroke=\"black\" cx=\"988\" cy=\"-101.5\" rx=\"27\" ry=\"18\"/>\n<text text-anchor=\"middle\" x=\"988\" y=\"-97.8\" font-family=\"Times,serif\" font-size=\"14.00\">+</text>\n</g>\n<!-- 134967363841648&#45;&gt;134967363843328+ -->\n<g id=\"edge14\" class=\"edge\">\n<title>134967363841648&#45;&gt;134967363843328+</title>\n<path fill=\"none\" stroke=\"black\" d=\"M919.03,-111.49C930.7,-109.77 941.77,-108.15 951.46,-106.72\"/>\n<polygon fill=\"black\" stroke=\"black\" points=\"952.01,-110.18 961.4,-105.26 951,-103.25 952.01,-110.18\"/>\n</g>\n<!-- 134967363841648+ -->\n<g id=\"node7\" class=\"node\">\n<title>134967363841648+</title>\n<ellipse fill=\"none\" stroke=\"black\" cx=\"603\" cy=\"-129.5\" rx=\"27\" ry=\"18\"/>\n<text text-anchor=\"middle\" x=\"603\" y=\"-125.8\" font-family=\"Times,serif\" font-size=\"14.00\">+</text>\n</g>\n<!-- 134967363841648+&#45;&gt;134967363841648 -->\n<g id=\"edge2\" class=\"edge\">\n<title>134967363841648+&#45;&gt;134967363841648</title>\n<path fill=\"none\" stroke=\"black\" d=\"M630.09,-129.5C637.58,-129.5 646.3,-129.5 655.75,-129.5\"/>\n<polygon fill=\"black\" stroke=\"black\" points=\"655.84,-133 665.84,-129.5 655.84,-126 655.84,-133\"/>\n</g>\n<!-- 134967363823584 -->\n<g id=\"node8\" class=\"node\">\n<title>134967363823584</title>\n<polygon fill=\"none\" stroke=\"black\" points=\"1983,-27.5 1983,-63.5 2169,-63.5 2169,-27.5 1983,-27.5\"/>\n<text text-anchor=\"middle\" x=\"1993\" y=\"-41.8\" font-family=\"Times,serif\" font-size=\"14.00\"> </text>\n<polyline fill=\"none\" stroke=\"black\" points=\"2003,-27.5 2003,-63.5 \"/>\n<text text-anchor=\"middle\" x=\"2043\" y=\"-41.8\" font-family=\"Times,serif\" font-size=\"14.00\">data 6.8284</text>\n<polyline fill=\"none\" stroke=\"black\" points=\"2083,-27.5 2083,-63.5 \"/>\n<text text-anchor=\"middle\" x=\"2126\" y=\"-41.8\" font-family=\"Times,serif\" font-size=\"14.00\">grad &#45;0.1036</text>\n</g>\n<!-- 134967363828192**&#45;1 -->\n<g id=\"node20\" class=\"node\">\n<title>134967363828192**&#45;1</title>\n<ellipse fill=\"none\" stroke=\"black\" cx=\"2296\" cy=\"-45.5\" rx=\"27\" ry=\"18\"/>\n<text text-anchor=\"middle\" x=\"2296\" y=\"-41.8\" font-family=\"Times,serif\" font-size=\"14.00\">**&#45;1</text>\n</g>\n<!-- 134967363823584&#45;&gt;134967363828192**&#45;1 -->\n<g id=\"edge13\" class=\"edge\">\n<title>134967363823584&#45;&gt;134967363828192**&#45;1</title>\n<path fill=\"none\" stroke=\"black\" d=\"M2169.14,-45.5C2200.72,-45.5 2234.24,-45.5 2258.74,-45.5\"/>\n<polygon fill=\"black\" stroke=\"black\" points=\"2258.98,-49 2268.98,-45.5 2258.98,-42 2258.98,-49\"/>\n</g>\n<!-- 134967363823584+&#45;&gt;134967363823584 -->\n<g id=\"edge3\" class=\"edge\">\n<title>134967363823584+&#45;&gt;134967363823584</title>\n<path fill=\"none\" stroke=\"black\" d=\"M1947.12,-45.5C1954.62,-45.5 1963.29,-45.5 1972.5,-45.5\"/>\n<polygon fill=\"black\" stroke=\"black\" points=\"1972.69,-49 1982.69,-45.5 1972.69,-42 1972.69,-49\"/>\n</g>\n<!-- 134967363831472 -->\n<g id=\"node10\" class=\"node\">\n<title>134967363831472</title>\n<polygon fill=\"none\" stroke=\"black\" points=\"326,-139.5 326,-175.5 540,-175.5 540,-139.5 326,-139.5\"/>\n<text text-anchor=\"middle\" x=\"349.5\" y=\"-153.8\" font-family=\"Times,serif\" font-size=\"14.00\">x1w1</text>\n<polyline fill=\"none\" stroke=\"black\" points=\"373,-139.5 373,-175.5 \"/>\n<text text-anchor=\"middle\" x=\"415.5\" y=\"-153.8\" font-family=\"Times,serif\" font-size=\"14.00\">data &#45;6.0000</text>\n<polyline fill=\"none\" stroke=\"black\" points=\"458,-139.5 458,-175.5 \"/>\n<text text-anchor=\"middle\" x=\"499\" y=\"-153.8\" font-family=\"Times,serif\" font-size=\"14.00\">grad 0.5000</text>\n</g>\n<!-- 134967363831472&#45;&gt;134967363841648+ -->\n<g id=\"edge28\" class=\"edge\">\n<title>134967363831472&#45;&gt;134967363841648+</title>\n<path fill=\"none\" stroke=\"black\" d=\"M540.4,-139.77C549.72,-138.21 558.65,-136.72 566.68,-135.39\"/>\n<polygon fill=\"black\" stroke=\"black\" points=\"567.38,-138.82 576.66,-133.72 566.22,-131.91 567.38,-138.82\"/>\n</g>\n<!-- 134967363831472*&#45;&gt;134967363831472 -->\n<g id=\"edge4\" class=\"edge\">\n<title>134967363831472*&#45;&gt;134967363831472</title>\n<path fill=\"none\" stroke=\"black\" d=\"M290.25,-157.5C297.7,-157.5 306.34,-157.5 315.59,-157.5\"/>\n<polygon fill=\"black\" stroke=\"black\" points=\"315.84,-161 325.84,-157.5 315.84,-154 315.84,-161\"/>\n</g>\n<!-- 134967363840736 -->\n<g id=\"node12\" class=\"node\">\n<title>134967363840736</title>\n<polygon fill=\"none\" stroke=\"black\" points=\"703,-56.5 703,-92.5 888,-92.5 888,-56.5 703,-56.5\"/>\n<text text-anchor=\"middle\" x=\"714.5\" y=\"-70.8\" font-family=\"Times,serif\" font-size=\"14.00\">b</text>\n<polyline fill=\"none\" stroke=\"black\" points=\"726,-56.5 726,-92.5 \"/>\n<text text-anchor=\"middle\" x=\"766\" y=\"-70.8\" font-family=\"Times,serif\" font-size=\"14.00\">data 6.8814</text>\n<polyline fill=\"none\" stroke=\"black\" points=\"806,-56.5 806,-92.5 \"/>\n<text text-anchor=\"middle\" x=\"847\" y=\"-70.8\" font-family=\"Times,serif\" font-size=\"14.00\">grad 0.5000</text>\n</g>\n<!-- 134967363840736&#45;&gt;134967363843328+ -->\n<g id=\"edge24\" class=\"edge\">\n<title>134967363840736&#45;&gt;134967363843328+</title>\n<path fill=\"none\" stroke=\"black\" d=\"M888.12,-87.49C910.59,-90.67 933.33,-93.89 951.33,-96.44\"/>\n<polygon fill=\"black\" stroke=\"black\" points=\"950.95,-99.93 961.34,-97.86 951.93,-92.99 950.95,-99.93\"/>\n</g>\n<!-- 134967363830512 -->\n<g id=\"node13\" class=\"node\">\n<title>134967363830512</title>\n<polygon fill=\"none\" stroke=\"black\" points=\"2,-139.5 2,-175.5 198,-175.5 198,-139.5 2,-139.5\"/>\n<text text-anchor=\"middle\" x=\"17\" y=\"-153.8\" font-family=\"Times,serif\" font-size=\"14.00\">x1</text>\n<polyline fill=\"none\" stroke=\"black\" points=\"32,-139.5 32,-175.5 \"/>\n<text text-anchor=\"middle\" x=\"72\" y=\"-153.8\" font-family=\"Times,serif\" font-size=\"14.00\">data 2.0000</text>\n<polyline fill=\"none\" stroke=\"black\" points=\"112,-139.5 112,-175.5 \"/>\n<text text-anchor=\"middle\" x=\"155\" y=\"-153.8\" font-family=\"Times,serif\" font-size=\"14.00\">grad &#45;1.5000</text>\n</g>\n<!-- 134967363830512&#45;&gt;134967363831472* -->\n<g id=\"edge17\" class=\"edge\">\n<title>134967363830512&#45;&gt;134967363831472*</title>\n<path fill=\"none\" stroke=\"black\" d=\"M198.37,-157.5C208.05,-157.5 217.4,-157.5 225.8,-157.5\"/>\n<polygon fill=\"black\" stroke=\"black\" points=\"225.91,-161 235.91,-157.5 225.91,-154 225.91,-161\"/>\n</g>\n<!-- 134967363843328 -->\n<g id=\"node14\" class=\"node\">\n<title>134967363843328</title>\n<polygon fill=\"none\" stroke=\"black\" points=\"1051,-83.5 1051,-119.5 1236,-119.5 1236,-83.5 1051,-83.5\"/>\n<text text-anchor=\"middle\" x=\"1062.5\" y=\"-97.8\" font-family=\"Times,serif\" font-size=\"14.00\">n</text>\n<polyline fill=\"none\" stroke=\"black\" points=\"1074,-83.5 1074,-119.5 \"/>\n<text text-anchor=\"middle\" x=\"1114\" y=\"-97.8\" font-family=\"Times,serif\" font-size=\"14.00\">data 0.8814</text>\n<polyline fill=\"none\" stroke=\"black\" points=\"1154,-83.5 1154,-119.5 \"/>\n<text text-anchor=\"middle\" x=\"1195\" y=\"-97.8\" font-family=\"Times,serif\" font-size=\"14.00\">grad 0.5000</text>\n</g>\n<!-- 134967363845920* -->\n<g id=\"node18\" class=\"node\">\n<title>134967363845920*</title>\n<ellipse fill=\"none\" stroke=\"black\" cx=\"1299\" cy=\"-73.5\" rx=\"27\" ry=\"18\"/>\n<text text-anchor=\"middle\" x=\"1299\" y=\"-69.8\" font-family=\"Times,serif\" font-size=\"14.00\">*</text>\n</g>\n<!-- 134967363843328&#45;&gt;134967363845920* -->\n<g id=\"edge15\" class=\"edge\">\n<title>134967363843328&#45;&gt;134967363845920*</title>\n<path fill=\"none\" stroke=\"black\" d=\"M1236.01,-84.81C1245.49,-83.08 1254.66,-81.41 1262.9,-79.9\"/>\n<polygon fill=\"black\" stroke=\"black\" points=\"1263.6,-83.33 1272.81,-78.09 1262.35,-76.45 1263.6,-83.33\"/>\n</g>\n<!-- 134967363843328+&#45;&gt;134967363843328 -->\n<g id=\"edge5\" class=\"edge\">\n<title>134967363843328+&#45;&gt;134967363843328</title>\n<path fill=\"none\" stroke=\"black\" d=\"M1015.04,-101.5C1022.58,-101.5 1031.3,-101.5 1040.57,-101.5\"/>\n<polygon fill=\"black\" stroke=\"black\" points=\"1040.81,-105 1050.81,-101.5 1040.81,-98 1040.81,-105\"/>\n</g>\n<!-- 134967363840784 -->\n<g id=\"node16\" class=\"node\">\n<title>134967363840784</title>\n<polygon fill=\"none\" stroke=\"black\" points=\"2.5,-29.5 2.5,-65.5 197.5,-65.5 197.5,-29.5 2.5,-29.5\"/>\n<text text-anchor=\"middle\" x=\"19\" y=\"-43.8\" font-family=\"Times,serif\" font-size=\"14.00\">w2</text>\n<polyline fill=\"none\" stroke=\"black\" points=\"35.5,-29.5 35.5,-65.5 \"/>\n<text text-anchor=\"middle\" x=\"75.5\" y=\"-43.8\" font-family=\"Times,serif\" font-size=\"14.00\">data 1.0000</text>\n<polyline fill=\"none\" stroke=\"black\" points=\"115.5,-29.5 115.5,-65.5 \"/>\n<text text-anchor=\"middle\" x=\"156.5\" y=\"-43.8\" font-family=\"Times,serif\" font-size=\"14.00\">grad 0.0000</text>\n</g>\n<!-- 134967363840784&#45;&gt;134967363836896* -->\n<g id=\"edge20\" class=\"edge\">\n<title>134967363840784&#45;&gt;134967363836896*</title>\n<path fill=\"none\" stroke=\"black\" d=\"M172.53,-65.56C181.84,-68.33 191.2,-71.33 200,-74.5 210.53,-78.29 221.75,-83.1 231.72,-87.67\"/>\n<polygon fill=\"black\" stroke=\"black\" points=\"230.28,-90.86 240.82,-91.93 233.25,-84.52 230.28,-90.86\"/>\n</g>\n<!-- 134967363845920 -->\n<g id=\"node17\" class=\"node\">\n<title>134967363845920</title>\n<polygon fill=\"none\" stroke=\"black\" points=\"1362,-55.5 1362,-91.5 1544,-91.5 1544,-55.5 1362,-55.5\"/>\n<text text-anchor=\"middle\" x=\"1372\" y=\"-69.8\" font-family=\"Times,serif\" font-size=\"14.00\"> </text>\n<polyline fill=\"none\" stroke=\"black\" points=\"1382,-55.5 1382,-91.5 \"/>\n<text text-anchor=\"middle\" x=\"1422\" y=\"-69.8\" font-family=\"Times,serif\" font-size=\"14.00\">data 1.7627</text>\n<polyline fill=\"none\" stroke=\"black\" points=\"1462,-55.5 1462,-91.5 \"/>\n<text text-anchor=\"middle\" x=\"1503\" y=\"-69.8\" font-family=\"Times,serif\" font-size=\"14.00\">grad 0.2500</text>\n</g>\n<!-- 134967363845920&#45;&gt;134967363818496exp -->\n<g id=\"edge11\" class=\"edge\">\n<title>134967363845920&#45;&gt;134967363818496exp</title>\n<path fill=\"none\" stroke=\"black\" d=\"M1544.18,-73.5C1553.14,-73.5 1561.83,-73.5 1569.73,-73.5\"/>\n<polygon fill=\"black\" stroke=\"black\" points=\"1569.96,-77 1579.96,-73.5 1569.96,-70 1569.96,-77\"/>\n</g>\n<!-- 134967363845920*&#45;&gt;134967363845920 -->\n<g id=\"edge6\" class=\"edge\">\n<title>134967363845920*&#45;&gt;134967363845920</title>\n<path fill=\"none\" stroke=\"black\" d=\"M1326.13,-73.5C1333.67,-73.5 1342.39,-73.5 1351.64,-73.5\"/>\n<polygon fill=\"black\" stroke=\"black\" points=\"1351.87,-77 1361.87,-73.5 1351.87,-70 1351.87,-77\"/>\n</g>\n<!-- 134967363828192 -->\n<g id=\"node19\" class=\"node\">\n<title>134967363828192</title>\n<polygon fill=\"none\" stroke=\"black\" points=\"2423,-31.5 2423,-67.5 2605,-67.5 2605,-31.5 2423,-31.5\"/>\n<text text-anchor=\"middle\" x=\"2433\" y=\"-45.8\" font-family=\"Times,serif\" font-size=\"14.00\"> </text>\n<polyline fill=\"none\" stroke=\"black\" points=\"2443,-31.5 2443,-67.5 \"/>\n<text text-anchor=\"middle\" x=\"2483\" y=\"-45.8\" font-family=\"Times,serif\" font-size=\"14.00\">data 0.1464</text>\n<polyline fill=\"none\" stroke=\"black\" points=\"2523,-31.5 2523,-67.5 \"/>\n<text text-anchor=\"middle\" x=\"2564\" y=\"-45.8\" font-family=\"Times,serif\" font-size=\"14.00\">grad 4.8284</text>\n</g>\n<!-- 134967363825648* -->\n<g id=\"node28\" class=\"node\">\n<title>134967363825648*</title>\n<ellipse fill=\"none\" stroke=\"black\" cx=\"2668\" cy=\"-72.5\" rx=\"27\" ry=\"18\"/>\n<text text-anchor=\"middle\" x=\"2668\" y=\"-68.8\" font-family=\"Times,serif\" font-size=\"14.00\">*</text>\n</g>\n<!-- 134967363828192&#45;&gt;134967363825648* -->\n<g id=\"edge21\" class=\"edge\">\n<title>134967363828192&#45;&gt;134967363825648*</title>\n<path fill=\"none\" stroke=\"black\" d=\"M2605.18,-63.15C2614.42,-64.54 2623.38,-65.9 2631.47,-67.12\"/>\n<polygon fill=\"black\" stroke=\"black\" points=\"2631.15,-70.61 2641.56,-68.65 2632.19,-63.69 2631.15,-70.61\"/>\n</g>\n<!-- 134967363828192**&#45;1&#45;&gt;134967363828192 -->\n<g id=\"edge7\" class=\"edge\">\n<title>134967363828192**&#45;1&#45;&gt;134967363828192</title>\n<path fill=\"none\" stroke=\"black\" d=\"M2323.05,-45.98C2345.53,-46.4 2379.48,-47.03 2412.5,-47.64\"/>\n<polygon fill=\"black\" stroke=\"black\" points=\"2412.64,-51.14 2422.7,-47.83 2412.77,-44.14 2412.64,-51.14\"/>\n</g>\n<!-- 134967363821856 -->\n<g id=\"node21\" class=\"node\">\n<title>134967363821856</title>\n<polygon fill=\"none\" stroke=\"black\" points=\"1670.5,-0.5 1670.5,-36.5 1856.5,-36.5 1856.5,-0.5 1670.5,-0.5\"/>\n<text text-anchor=\"middle\" x=\"1680.5\" y=\"-14.8\" font-family=\"Times,serif\" font-size=\"14.00\"> </text>\n<polyline fill=\"none\" stroke=\"black\" points=\"1690.5,-0.5 1690.5,-36.5 \"/>\n<text text-anchor=\"middle\" x=\"1730.5\" y=\"-14.8\" font-family=\"Times,serif\" font-size=\"14.00\">data 1.0000</text>\n<polyline fill=\"none\" stroke=\"black\" points=\"1770.5,-0.5 1770.5,-36.5 \"/>\n<text text-anchor=\"middle\" x=\"1813.5\" y=\"-14.8\" font-family=\"Times,serif\" font-size=\"14.00\">grad &#45;0.1036</text>\n</g>\n<!-- 134967363821856&#45;&gt;134967363823584+ -->\n<g id=\"edge22\" class=\"edge\">\n<title>134967363821856&#45;&gt;134967363823584+</title>\n<path fill=\"none\" stroke=\"black\" d=\"M1856.6,-34.6C1866.15,-36.26 1875.37,-37.88 1883.68,-39.33\"/>\n<polygon fill=\"black\" stroke=\"black\" points=\"1883.2,-42.8 1893.65,-41.07 1884.4,-35.9 1883.2,-42.8\"/>\n</g>\n<!-- 134967363838336 -->\n<g id=\"node22\" class=\"node\">\n<title>134967363838336</title>\n<polygon fill=\"none\" stroke=\"black\" points=\"1052.5,-28.5 1052.5,-64.5 1234.5,-64.5 1234.5,-28.5 1052.5,-28.5\"/>\n<text text-anchor=\"middle\" x=\"1062.5\" y=\"-42.8\" font-family=\"Times,serif\" font-size=\"14.00\"> </text>\n<polyline fill=\"none\" stroke=\"black\" points=\"1072.5,-28.5 1072.5,-64.5 \"/>\n<text text-anchor=\"middle\" x=\"1112.5\" y=\"-42.8\" font-family=\"Times,serif\" font-size=\"14.00\">data 2.0000</text>\n<polyline fill=\"none\" stroke=\"black\" points=\"1152.5,-28.5 1152.5,-64.5 \"/>\n<text text-anchor=\"middle\" x=\"1193.5\" y=\"-42.8\" font-family=\"Times,serif\" font-size=\"14.00\">grad 0.2203</text>\n</g>\n<!-- 134967363838336&#45;&gt;134967363845920* -->\n<g id=\"edge12\" class=\"edge\">\n<title>134967363838336&#45;&gt;134967363845920*</title>\n<path fill=\"none\" stroke=\"black\" d=\"M1234.68,-62.36C1244.61,-64.11 1254.23,-65.8 1262.84,-67.32\"/>\n<polygon fill=\"black\" stroke=\"black\" points=\"1262.36,-70.78 1272.81,-69.07 1263.57,-63.89 1262.36,-70.78\"/>\n</g>\n<!-- 134967363820464 -->\n<g id=\"node23\" class=\"node\">\n<title>134967363820464</title>\n<polygon fill=\"none\" stroke=\"black\" points=\"2205,-82.5 2205,-118.5 2387,-118.5 2387,-82.5 2205,-82.5\"/>\n<text text-anchor=\"middle\" x=\"2215\" y=\"-96.8\" font-family=\"Times,serif\" font-size=\"14.00\"> </text>\n<polyline fill=\"none\" stroke=\"black\" points=\"2225,-82.5 2225,-118.5 \"/>\n<text text-anchor=\"middle\" x=\"2265\" y=\"-96.8\" font-family=\"Times,serif\" font-size=\"14.00\">data 4.8284</text>\n<polyline fill=\"none\" stroke=\"black\" points=\"2305,-82.5 2305,-118.5 \"/>\n<text text-anchor=\"middle\" x=\"2346\" y=\"-96.8\" font-family=\"Times,serif\" font-size=\"14.00\">grad 0.1464</text>\n</g>\n<!-- 134967363820464&#45;&gt;134967363825648* -->\n<g id=\"edge19\" class=\"edge\">\n<title>134967363820464&#45;&gt;134967363825648*</title>\n<path fill=\"none\" stroke=\"black\" d=\"M2387.04,-93.69C2465.41,-87.76 2574.98,-79.46 2630.96,-75.23\"/>\n<polygon fill=\"black\" stroke=\"black\" points=\"2631.39,-78.7 2641.1,-74.46 2630.86,-71.72 2631.39,-78.7\"/>\n</g>\n<!-- 134967363820464+&#45;&gt;134967363820464 -->\n<g id=\"edge8\" class=\"edge\">\n<title>134967363820464+&#45;&gt;134967363820464</title>\n<path fill=\"none\" stroke=\"black\" d=\"M1947,-100.5C1997.46,-100.5 2111.06,-100.5 2194.81,-100.5\"/>\n<polygon fill=\"black\" stroke=\"black\" points=\"2194.87,-104 2204.87,-100.5 2194.87,-97 2194.87,-104\"/>\n</g>\n<!-- 134967363836896 -->\n<g id=\"node25\" class=\"node\">\n<title>134967363836896</title>\n<polygon fill=\"none\" stroke=\"black\" points=\"328.5,-84.5 328.5,-120.5 537.5,-120.5 537.5,-84.5 328.5,-84.5\"/>\n<text text-anchor=\"middle\" x=\"352\" y=\"-98.8\" font-family=\"Times,serif\" font-size=\"14.00\">x2w2</text>\n<polyline fill=\"none\" stroke=\"black\" points=\"375.5,-84.5 375.5,-120.5 \"/>\n<text text-anchor=\"middle\" x=\"415.5\" y=\"-98.8\" font-family=\"Times,serif\" font-size=\"14.00\">data 0.0000</text>\n<polyline fill=\"none\" stroke=\"black\" points=\"455.5,-84.5 455.5,-120.5 \"/>\n<text text-anchor=\"middle\" x=\"496.5\" y=\"-98.8\" font-family=\"Times,serif\" font-size=\"14.00\">grad 0.5000</text>\n</g>\n<!-- 134967363836896&#45;&gt;134967363841648+ -->\n<g id=\"edge27\" class=\"edge\">\n<title>134967363836896&#45;&gt;134967363841648+</title>\n<path fill=\"none\" stroke=\"black\" d=\"M537.53,-119.14C547.8,-120.79 557.66,-122.37 566.45,-123.79\"/>\n<polygon fill=\"black\" stroke=\"black\" points=\"566.16,-127.28 576.59,-125.42 567.27,-120.37 566.16,-127.28\"/>\n</g>\n<!-- 134967363836896*&#45;&gt;134967363836896 -->\n<g id=\"edge9\" class=\"edge\">\n<title>134967363836896*&#45;&gt;134967363836896</title>\n<path fill=\"none\" stroke=\"black\" d=\"M290.25,-102.5C298.43,-102.5 308.03,-102.5 318.31,-102.5\"/>\n<polygon fill=\"black\" stroke=\"black\" points=\"318.35,-106 328.35,-102.5 318.35,-99 318.35,-106\"/>\n</g>\n<!-- 134967363825648 -->\n<g id=\"node27\" class=\"node\">\n<title>134967363825648</title>\n<polygon fill=\"none\" stroke=\"black\" points=\"2731,-54.5 2731,-90.5 2916,-90.5 2916,-54.5 2731,-54.5\"/>\n<text text-anchor=\"middle\" x=\"2742.5\" y=\"-68.8\" font-family=\"Times,serif\" font-size=\"14.00\">o</text>\n<polyline fill=\"none\" stroke=\"black\" points=\"2754,-54.5 2754,-90.5 \"/>\n<text text-anchor=\"middle\" x=\"2794\" y=\"-68.8\" font-family=\"Times,serif\" font-size=\"14.00\">data 0.7071</text>\n<polyline fill=\"none\" stroke=\"black\" points=\"2834,-54.5 2834,-90.5 \"/>\n<text text-anchor=\"middle\" x=\"2875\" y=\"-68.8\" font-family=\"Times,serif\" font-size=\"14.00\">grad 1.0000</text>\n</g>\n<!-- 134967363825648*&#45;&gt;134967363825648 -->\n<g id=\"edge10\" class=\"edge\">\n<title>134967363825648*&#45;&gt;134967363825648</title>\n<path fill=\"none\" stroke=\"black\" d=\"M2695.04,-72.5C2702.58,-72.5 2711.3,-72.5 2720.57,-72.5\"/>\n<polygon fill=\"black\" stroke=\"black\" points=\"2720.81,-76 2730.81,-72.5 2720.81,-69 2720.81,-76\"/>\n</g>\n</g>\n</svg>\n",
            "text/plain": [
              "<graphviz.graphs.Digraph at 0x7ac089c6e270>"
            ]
          },
          "metadata": {},
          "execution_count": 112
        }
      ]
    },
    {
      "cell_type": "markdown",
      "source": [
        "do/x1 = do/dn * dn/dx1w1x2w2 * dx1w1x2w2/dx1w1 * dx1w1/dx1"
      ],
      "metadata": {
        "id": "7BzmeEwQA6v2"
      }
    },
    {
      "cell_type": "markdown",
      "source": [
        "## Doing the same in Pytorch"
      ],
      "metadata": {
        "id": "heLJKj3lLW2M"
      }
    },
    {
      "cell_type": "code",
      "source": [
        "import torch\n",
        "\n",
        "#scalar value tensors\n",
        "x1 = torch.Tensor([2.0]).double()\n",
        "x1.requires_grad = True\n",
        "\n",
        "x2 = torch.Tensor([0.0]).double()\n",
        "x2.requires_grad = True\n",
        "\n",
        "w1 = torch.Tensor([-3.0]).double()\n",
        "w1.requires_grad = True\n",
        "\n",
        "w2 = torch.Tensor([1.0]).double()\n",
        "w2.requires_grad = True\n",
        "\n",
        "b = torch.Tensor([6.8813735870195432]).double()\n",
        "b.requires_grad = True\n",
        "\n",
        "n = w1*x1 + w2*x2 + b\n",
        "o = torch.tanh(n)\n",
        "\n",
        "print(o.data.item())\n",
        "\n",
        "o.backward()\n",
        "\n",
        "print(\"_____\")\n",
        "print('x2', x2.grad.item())\n",
        "print('w2', w2.grad.item())\n",
        "print('x1', x1.grad.item())\n",
        "print('w1', w1.grad.item())"
      ],
      "metadata": {
        "colab": {
          "base_uri": "https://localhost:8080/"
        },
        "id": "3b-cKt14LYrP",
        "outputId": "9e8c50f1-370a-4d13-a518-54a7fca442a8"
      },
      "execution_count": 113,
      "outputs": [
        {
          "output_type": "stream",
          "name": "stdout",
          "text": [
            "0.7071066904050358\n",
            "_____\n",
            "x2 0.5000001283844369\n",
            "w2 0.0\n",
            "x1 -1.5000003851533106\n",
            "w1 1.0000002567688737\n"
          ]
        }
      ]
    },
    {
      "cell_type": "markdown",
      "source": [
        "# Building Neural Network"
      ],
      "metadata": {
        "id": "L4B81K6kNU7e"
      }
    },
    {
      "cell_type": "code",
      "source": [
        "import random\n",
        "class Neuron:\n",
        "  def __init__(self, min):\n",
        "    self.w = [Value(random.uniform(-1,1)) for _ in range(min)]\n",
        "    self.b = Value(random.uniform(-1,1))\n",
        "\n",
        "  # as if applying function to x\n",
        "  def __call__(self, x):\n",
        "    #w * x + b\n",
        "    #pairwise multiplication\n",
        "    act = sum((wi * xi for wi, xi, in zip(self.w, x)), self.b)\n",
        "    #activation function\n",
        "    out = act.tanh()\n",
        "    return out\n",
        "\n",
        "  #like pytorch, returns parameters\n",
        "  def parameters(self):\n",
        "    return self.w + [self.b]\n",
        "\n",
        "class Layer:\n",
        "  def __init__(self, nin, nout):\n",
        "    self.neurons = [Neuron(nin) for _ in range(nout)]\n",
        "\n",
        "  def __call__(self,x):\n",
        "    outs = [n(x) for n in self.neurons]\n",
        "    return outs[0] if len(outs) == 1 else outs\n",
        "\n",
        "  def parameters(self):\n",
        "    return [p for neuron in self.neurons for p in neuron.parameters()]\n",
        "\n",
        "class MLP:\n",
        "  def __init__(self, nin, nouts):\n",
        "    sz = [nin] + nouts\n",
        "    self.layers = [Layer(sz[i], sz[i+1]) for i in range(len(nouts))]\n",
        "\n",
        "  def __call__(self, x):\n",
        "    for layer in self.layers:\n",
        "      x = layer(x)\n",
        "    return x\n",
        "\n",
        "  def parameters(self):\n",
        "    return [p for layer in self.layers for p in layer.parameters()]\n",
        "\n",
        "n = MLP(3, [4,4,1])"
      ],
      "metadata": {
        "id": "q-twHACsMVQ7"
      },
      "execution_count": 256,
      "outputs": []
    },
    {
      "cell_type": "code",
      "source": [
        "len(n.parameters())"
      ],
      "metadata": {
        "colab": {
          "base_uri": "https://localhost:8080/"
        },
        "id": "9p3kZNJEVuQo",
        "outputId": "11c10863-311b-4caa-e99a-debf2f6d1002"
      },
      "execution_count": 179,
      "outputs": [
        {
          "output_type": "execute_result",
          "data": {
            "text/plain": [
              "41"
            ]
          },
          "metadata": {},
          "execution_count": 179
        }
      ]
    },
    {
      "cell_type": "code",
      "source": [
        "#example dataset\n",
        "xs = [\n",
        "    [2.0, 3.0, -1.0],\n",
        "    [3.0,-1.0,0.5],\n",
        "    [0.5,1.0,1.0],\n",
        "    [1.0,1.0,-1.0],\n",
        "]\n",
        "ys = [1.0, -1.0, -1.0, 1.0]     #binary targets\n",
        "\n",
        "ypred = [n(x) for x in xs]\n",
        "ypred"
      ],
      "metadata": {
        "colab": {
          "base_uri": "https://localhost:8080/"
        },
        "id": "fsrB-uZ9QiNZ",
        "outputId": "3d153a1c-5481-40ed-eae0-b1a25c52c8b5"
      },
      "execution_count": 257,
      "outputs": [
        {
          "output_type": "execute_result",
          "data": {
            "text/plain": [
              "[Value(data=0.5384276717489813,\n",
              " Value(data=0.4792989461973716,\n",
              " Value(data=0.5410585746457208,\n",
              " Value(data=0.5640587628650037]"
            ]
          },
          "metadata": {},
          "execution_count": 257
        }
      ]
    },
    {
      "cell_type": "code",
      "source": [
        "#loss = single number that measures the total performance of the neural net\n",
        "#example: mean squared error\n",
        "loss = sum((yout - ygt)**2 for ygt, yout in zip(ys, ypred))\n",
        "loss"
      ],
      "metadata": {
        "colab": {
          "base_uri": "https://localhost:8080/"
        },
        "id": "56eoSvCTRNnT",
        "outputId": "5219ba0d-a492-462c-95b0-7504c56e8718"
      },
      "execution_count": 252,
      "outputs": [
        {
          "output_type": "execute_result",
          "data": {
            "text/plain": [
              "Value(data=0.04876029437683809"
            ]
          },
          "metadata": {},
          "execution_count": 252
        }
      ]
    },
    {
      "cell_type": "code",
      "source": [
        "loss.backward()"
      ],
      "metadata": {
        "id": "2ZI5Xeh1RrrZ"
      },
      "execution_count": 249,
      "outputs": []
    },
    {
      "cell_type": "code",
      "source": [
        "draw_dot(loss)"
      ],
      "metadata": {
        "id": "vQuBq9BSUSUK"
      },
      "execution_count": null,
      "outputs": []
    },
    {
      "cell_type": "markdown",
      "source": [
        "## Training Steps\n",
        "gradient descent: vector point in direction of increased loss\n",
        "\n",
        "if gradient is positive, influence on loss is positive, so increasing weight will increase loss and vice-versa, so we want to go in the opposite direction"
      ],
      "metadata": {
        "id": "KYXM_1UHU3_e"
      }
    },
    {
      "cell_type": "code",
      "source": [
        "for p in n.parameters():\n",
        "  #gradient descent: lr * grad\n",
        "  #lr is a subtle art of choosing\n",
        "  p.data += -.01 * p.grad"
      ],
      "metadata": {
        "id": "RL8GUXJVUpso"
      },
      "execution_count": 250,
      "outputs": []
    },
    {
      "cell_type": "code",
      "source": [
        "#training loop\n",
        "epochs = 50\n",
        "for epoch in range(epochs):\n",
        "  #forward pass\n",
        "  ypred = [n(x) for x in xs]\n",
        "\n",
        "  #evaluate loss\n",
        "  loss = sum((yout - ygt)**2 for ygt, yout in zip(ys, ypred))\n",
        "\n",
        "  #backward pass\n",
        "  #zero_grad\n",
        "  for p in n.parameters():\n",
        "    p.grad = 0\n",
        "  loss.backward()\n",
        "\n",
        "  #update\n",
        "  for p in n.parameters():\n",
        "    p.data += -.01 * p.grad\n",
        "\n",
        "  print(epoch, loss.data)\n"
      ],
      "metadata": {
        "colab": {
          "base_uri": "https://localhost:8080/"
        },
        "id": "34p6F2fYXMtS",
        "outputId": "70d371eb-fc25-4444-e911-2feb670b8ccf"
      },
      "execution_count": 260,
      "outputs": [
        {
          "output_type": "stream",
          "name": "stdout",
          "text": [
            "0 0.040025908880186443\n",
            "1 0.039539351921478595\n",
            "2 0.03906387685704153\n",
            "3 0.03859911847260876\n",
            "4 0.03814472718659683\n",
            "5 0.03770036823146759\n",
            "6 0.03726572088557609\n",
            "7 0.036840477751935836\n",
            "8 0.036424344080612195\n",
            "9 0.036017037131716154\n",
            "10 0.035618285576207824\n",
            "11 0.03522782893193351\n",
            "12 0.034845417032517395\n",
            "13 0.034470809526912755\n",
            "14 0.03410377540757853\n",
            "15 0.0337440925654019\n",
            "16 0.03339154736962621\n",
            "17 0.033045934271169954\n",
            "18 0.032707055427840276\n",
            "19 0.032374720350054426\n",
            "20 0.032048745565777574\n",
            "21 0.031728954303480605\n",
            "22 0.031415176192003964\n",
            "23 0.031107246976291063\n",
            "24 0.03080500824802674\n",
            "25 0.030508307190282635\n",
            "26 0.030216996335331713\n",
            "27 0.02993093333485116\n",
            "28 0.02964998074178482\n",
            "29 0.02937400580318473\n",
            "30 0.029102880263396462\n",
            "31 0.028836480176993737\n",
            "32 0.028574685730906994\n",
            "33 0.028317381075225894\n",
            "34 0.028064454162189174\n",
            "35 0.027815796592905586\n",
            "36 0.027571303471379517\n",
            "37 0.02733087326543937\n",
            "38 0.02709440767419413\n",
            "39 0.026861811501665073\n",
            "40 0.026632992536260412\n",
            "41 0.026407861435783837\n",
            "42 0.026186331617682027\n",
            "43 0.025968319154258207\n",
            "44 0.025753742672591777\n",
            "45 0.02554252325892133\n",
            "46 0.025334584367261197\n",
            "47 0.02512985173203588\n",
            "48 0.024928253284529158\n",
            "49 0.024729719072955215\n"
          ]
        }
      ]
    },
    {
      "cell_type": "code",
      "source": [],
      "metadata": {
        "id": "hkqzS_gVYI1D"
      },
      "execution_count": null,
      "outputs": []
    }
  ]
}